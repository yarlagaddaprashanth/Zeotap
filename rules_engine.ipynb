{
  "nbformat": 4,
  "nbformat_minor": 0,
  "metadata": {
    "colab": {
      "provenance": [],
      "authorship_tag": "ABX9TyNkizHEZpg/J0JvYz5MX9rt",
      "include_colab_link": true
    },
    "kernelspec": {
      "name": "python3",
      "display_name": "Python 3"
    },
    "language_info": {
      "name": "python"
    }
  },
  "cells": [
    {
      "cell_type": "markdown",
      "metadata": {
        "id": "view-in-github",
        "colab_type": "text"
      },
      "source": [
        "<a href=\"https://colab.research.google.com/github/yarlagaddaprashanth/Zeotap/blob/main/rules_engine.ipynb\" target=\"_parent\"><img src=\"https://colab.research.google.com/assets/colab-badge.svg\" alt=\"Open In Colab\"/></a>"
      ]
    },
    {
      "cell_type": "code",
      "execution_count": null,
      "metadata": {
        "id": "NI15LaNx-OKs"
      },
      "outputs": [],
      "source": [
        "class Node:\n",
        "    def __init__(self, node_type, left=None, right=None, value=None):\n",
        "        self.node_type = node_type  # \"operator\" for AND/OR, \"operand\" for conditions\n",
        "        self.left = left  # left child node\n",
        "        self.right = right  # right child node\n",
        "        self.value = value  # value for operand nodes (e.g., comparison values)\n"
      ]
    },
    {
      "cell_type": "code",
      "source": [
        "def create_rule(rule_string):\n",
        "    # Simplified parsing (would ideally use a more robust parser or an existing library)\n",
        "    tokens = rule_string.split(\" \")\n",
        "\n",
        "    # Recursively create an AST for conditions\n",
        "    if \"AND\" in tokens or \"OR\" in tokens:\n",
        "        operator_index = tokens.index(\"AND\") if \"AND\" in tokens else tokens.index(\"OR\")\n",
        "        left_rule = \" \".join(tokens[:operator_index])\n",
        "        right_rule = \" \".join(tokens[operator_index+1:])\n",
        "        node_type = \"operator\"\n",
        "        operator = tokens[operator_index]\n",
        "        return Node(node_type=node_type, left=create_rule(left_rule), right=create_rule(right_rule), value=operator)\n",
        "\n",
        "    # Operand node (leaf node)\n",
        "    condition = rule_string.strip()\n",
        "    return Node(node_type=\"operand\", value=condition)\n"
      ],
      "metadata": {
        "id": "lQG7SmKs-Sr4"
      },
      "execution_count": null,
      "outputs": []
    },
    {
      "cell_type": "code",
      "source": [
        "def combine_rules(rules):\n",
        "    combined = None\n",
        "    for rule in rules:\n",
        "        if combined is None:\n",
        "            combined = create_rule(rule)\n",
        "        else:\n",
        "            # Combine rules using OR (as an example)\n",
        "            combined = Node(node_type=\"operator\", left=combined, right=create_rule(rule), value=\"OR\")\n",
        "    return combined\n"
      ],
      "metadata": {
        "id": "IDsKEh_U-Wlc"
      },
      "execution_count": null,
      "outputs": []
    },
    {
      "cell_type": "code",
      "source": [
        "def evaluate_rule(ast, data):\n",
        "    if ast.node_type == \"operand\":\n",
        "        # Evaluate condition, e.g., \"age > 30\"\n",
        "        condition = ast.value.split(\" \")\n",
        "        attribute, operator, value = condition[0], condition[1], condition[2]\n",
        "        if operator == \">\":\n",
        "            return data[attribute] > int(value)\n",
        "        elif operator == \"<\":\n",
        "            return data[attribute] < int(value)\n",
        "        elif operator == \"=\":\n",
        "            return data[attribute] == value.strip(\"'\")\n",
        "\n",
        "    if ast.node_type == \"operator\":\n",
        "        if ast.value == \"AND\":\n",
        "            return evaluate_rule(ast.left, data) and evaluate_rule(ast.right, data)\n",
        "        elif ast.value == \"OR\":\n",
        "            return evaluate_rule(ast.left, data) or evaluate_rule(ast.right, data)\n",
        "\n",
        "# Example usage\n",
        "rule1 = \"age > 30 AND department = 'Sales'\"\n",
        "rule2 = \"age < 25 AND department = 'Marketing'\"\n",
        "combined_ast = combine_rules([rule1, rule2])\n",
        "\n",
        "data = {\"age\": 35, \"department\": \"Sales\", \"salary\": 60000, \"experience\": 3}\n",
        "result = evaluate_rule(combined_ast, data)\n",
        "print(result)  # Outputs True or False based on the rule\n"
      ],
      "metadata": {
        "id": "Kzb6rsF4-ZSg",
        "outputId": "8f8214c4-355f-47b3-df37-9a7524dcabf1",
        "colab": {
          "base_uri": "https://localhost:8080/"
        }
      },
      "execution_count": null,
      "outputs": [
        {
          "output_type": "stream",
          "name": "stdout",
          "text": [
            "True\n"
          ]
        }
      ]
    },
    {
      "cell_type": "code",
      "source": [],
      "metadata": {
        "id": "NaEmOCLg-bp7"
      },
      "execution_count": null,
      "outputs": []
    }
  ]
}